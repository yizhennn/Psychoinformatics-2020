{
 "cells": [
  {
   "cell_type": "markdown",
   "metadata": {},
   "source": [
    "# Psychoinformatics - Week 4 (Exercises)\n",
    "王苡蓁 jane19961101@gmail.com"
   ]
  },
  {
   "cell_type": "markdown",
   "metadata": {},
   "source": [
    "## 進一步搜尋 Boy-Girl 版資訊 (6 points)"
   ]
  },
  {
   "cell_type": "markdown",
   "metadata": {},
   "source": [
    "1. index.html 右上角 [< 上頁 ] 中包含了總頁數資訊，請用 LXML 抓出此經常變動的數字。(2points)\n",
    "\n",
    "2. 請用 LXML 找出距離現在時間最近的一篇[爆]文標題與 URN 。(2 points)\n",
    "\n",
    "3. 請用 Selenium 在 index.html 往前翻三頁並拍照。(2 points)"
   ]
  },
  {
   "cell_type": "code",
   "execution_count": 1,
   "metadata": {},
   "outputs": [],
   "source": [
    "#!pip install selenium\n",
    "#!pip install requests\n",
    "#!pip install urllib\n",
    "#!pip install lxml.html"
   ]
  },
  {
   "cell_type": "code",
   "execution_count": 22,
   "metadata": {
    "scrolled": true
   },
   "outputs": [],
   "source": [
    "def analyze():    \n",
    "    import urllib, lxml.html\n",
    "    \n",
    "    def request(URN='/bbs/Boy-Girl'):\n",
    "        URL='http://www.ptt.cc'\n",
    "        h={'User-Agent':'Mozilla/5.0'}\n",
    "        r=urllib.request.Request(URL+URN,headers=h)\n",
    "        data=urllib.request.urlopen(r).read()\n",
    "        t=lxml.html.fromstring(data.decode('utf-8'))\n",
    "        return t\n",
    "    \n",
    "#Q1 index.html 右上角 [< 上頁 ] 中包含了總頁數資訊，請用 LXML 抓出此經常變動的數字    \n",
    "    def q1(t):\n",
    "        x = t.xpath('//div[@class=\"btn-group btn-group-paging\"]/a[contains(text(), \"上頁\")]/@href')\n",
    "        x=str(x)\n",
    "        a=x.split('/') [3].split('x') [1].split('.') [0]\n",
    "        return a\n",
    "\n",
    "    a2=q1(request())#print(a2)\n",
    "    \n",
    "    \n",
    "#Q2 請用 LXML 找出距離現在時間最近的一篇[爆]文標題與 URN \n",
    "    title = request().xpath('//div[@class=\"nrec\"]/span[contains(text(), \"爆\")]/../../div[@class=\"title\"]/a/text()')\n",
    "    URN = '/bbs/Boy-Girl'\n",
    "    if len(title) == 0 or str(title).find(\"置底閒聊\")!=-1:\n",
    "        while len(title) == 0 or str(title).find(\"置底閒聊\")!=-1:#str(title).find(\"置底閒聊\")!=-1:title!=\"'[置底閒聊] 18/06/2019 04:17am '\":\n",
    "            t = request(URN)\n",
    "            URN = '/bbs/Boy-Girl/index' +str(q1(t))+ '.html'\n",
    "            title = t.xpath('//div[@class=\"nrec\"]/span[contains(text(), \"爆\")]/../../div[@class=\"title\"]/a/text()')\n",
    "            #print(URN) \n",
    "            the_URN = t.xpath('//div[@class=\"nrec\"]/span[contains(text(), \"爆\")]/../../div[@class=\"title\"]/a/@href')\n",
    "           \n",
    "\n",
    "\n",
    "#Q3 請用 Selenium 在 index.html 往前翻三頁並拍照\n",
    "    from selenium import webdriver\n",
    "    URL='https://www.ptt.cc/bbs/Boy-Girl/index.html'\n",
    "    driver = webdriver.Chrome(\"/Users/Apple/Desktop/note/資訊學/作業/HW4/chromedriver\")\n",
    "    driver.get(URL)\n",
    "\n",
    "    for i in range(3):\n",
    "        driver.find_element_by_partial_link_text('‹ 上頁').click()\n",
    "        file_name = str(i+1) + '.png'\n",
    "        driver.save_screenshot(file_name)\n",
    "        \n",
    "    l=len(title)-1\n",
    "    return [int(a2)+1,title[l],the_URN[l]]"
   ]
  },
  {
   "cell_type": "code",
   "execution_count": 23,
   "metadata": {},
   "outputs": [
    {
     "data": {
      "text/plain": [
       "[4799, 'Re: [心情] 這些年，我遇過的奇葩', '/bbs/Boy-Girl/M.1586161866.A.DC4.html']"
      ]
     },
     "execution_count": 23,
     "metadata": {},
     "output_type": "execute_result"
    }
   ],
   "source": [
    "analyze()"
   ]
  },
  {
   "cell_type": "markdown",
   "metadata": {},
   "source": [
    "### Please submit this file to http://hpc.psy.ntu.edu.tw/info before noon next Thursday."
   ]
  }
 ],
 "metadata": {
  "kernelspec": {
   "display_name": "Python 3",
   "language": "python",
   "name": "python3"
  },
  "language_info": {
   "codemirror_mode": {
    "name": "ipython",
    "version": 3
   },
   "file_extension": ".py",
   "mimetype": "text/x-python",
   "name": "python",
   "nbconvert_exporter": "python",
   "pygments_lexer": "ipython3",
   "version": "3.7.1"
  }
 },
 "nbformat": 4,
 "nbformat_minor": 2
}
