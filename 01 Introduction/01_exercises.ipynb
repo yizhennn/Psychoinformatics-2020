{
 "cells": [
  {
   "cell_type": "markdown",
   "metadata": {},
   "source": [
    "# Psychoinformatics - Week 1 (Exercises)\n",
    "by yourname (your email)"
   ]
  },
  {
   "cell_type": "markdown",
   "metadata": {},
   "source": [
    "## 1 Measurement of RTs (6 points)"
   ]
  },
  {
   "cell_type": "markdown",
   "metadata": {},
   "source": [
    "Please modify the FUNCTION measure() to:\n",
    "\n",
    "(1) change the pre-response waiting period from [0,10] to [5,10] seconds (3 points)\n",
    "\n",
    "and\n",
    "\n",
    "(2) carry out 3 measurements and print out only the AVERAGE RT (3 points)"
   ]
  },
  {
   "cell_type": "code",
   "execution_count": 1,
   "metadata": {},
   "outputs": [],
   "source": [
    "# Please make changes here:\n",
    "import time,random\n",
    "def measure():\n",
    "    print(\"Get ready…\",flush=True)\n",
    "    time.sleep(10*random.random())\n",
    "    t0=time.time()\n",
    "    input(\"Press [Enter] now!\");\n",
    "    return time.time()-t0"
   ]
  },
  {
   "cell_type": "code",
   "execution_count": 2,
   "metadata": {},
   "outputs": [
    {
     "name": "stdout",
     "output_type": "stream",
     "text": [
      "Get ready…\n",
      "Press [Enter] now!\n",
      "1.3041176795959473\n"
     ]
    }
   ],
   "source": [
    "print(measure())"
   ]
  },
  {
   "cell_type": "markdown",
   "metadata": {},
   "source": [
    "### Please submit this file to http://hpc.psy.ntu.edu.tw/info before 9am next Friday."
   ]
  }
 ],
 "metadata": {
  "kernelspec": {
   "display_name": "Python 3",
   "language": "python",
   "name": "python3"
  },
  "language_info": {
   "codemirror_mode": {
    "name": "ipython",
    "version": 3
   },
   "file_extension": ".py",
   "mimetype": "text/x-python",
   "name": "python",
   "nbconvert_exporter": "python",
   "pygments_lexer": "ipython3",
   "version": "3.7.6"
  }
 },
 "nbformat": 4,
 "nbformat_minor": 2
}
