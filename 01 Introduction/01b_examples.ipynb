{
 "cells": [
  {
   "cell_type": "markdown",
   "metadata": {},
   "source": [
    "# Psychoinformatics - Week 1b (Examples)\n",
    "by Tsung-Ren (Tren) Huang (trhuang@g.ntu.edu.tw)"
   ]
  },
  {
   "cell_type": "markdown",
   "metadata": {},
   "source": [
    "## 1 More on \"import\""
   ]
  },
  {
   "cell_type": "markdown",
   "metadata": {},
   "source": [
    "#### 1.1 The standard way"
   ]
  },
  {
   "cell_type": "code",
   "execution_count": 4,
   "metadata": {},
   "outputs": [
    {
     "data": {
      "text/plain": [
       "0.6854874407128576"
      ]
     },
     "execution_count": 4,
     "metadata": {},
     "output_type": "execute_result"
    }
   ],
   "source": [
    "import random\n",
    "random.random()  "
   ]
  },
  {
   "cell_type": "markdown",
   "metadata": {
    "collapsed": true
   },
   "source": [
    "#### 1.2 Nicknames"
   ]
  },
  {
   "cell_type": "code",
   "execution_count": 5,
   "metadata": {},
   "outputs": [
    {
     "data": {
      "text/plain": [
       "0.7287908862740958"
      ]
     },
     "execution_count": 5,
     "metadata": {},
     "output_type": "execute_result"
    }
   ],
   "source": [
    "import random as rnd    \n",
    "rnd.random()"
   ]
  },
  {
   "cell_type": "markdown",
   "metadata": {},
   "source": [
    "### 1.3 The lazy way"
   ]
  },
  {
   "cell_type": "code",
   "execution_count": 6,
   "metadata": {},
   "outputs": [
    {
     "data": {
      "text/plain": [
       "0.8666434037387576"
      ]
     },
     "execution_count": 6,
     "metadata": {},
     "output_type": "execute_result"
    }
   ],
   "source": [
    "from random import *\n",
    "random()"
   ]
  },
  {
   "cell_type": "markdown",
   "metadata": {},
   "source": [
    "## 2 Numpy\n",
    "Cheat Sheet: https://s3.amazonaws.com/assets.datacamp.com/blog_assets/Numpy_Python_Cheat_Sheet.pdf"
   ]
  },
  {
   "cell_type": "markdown",
   "metadata": {},
   "source": [
    "### 2.1 Single instruction, multiple data (SIMD)"
   ]
  },
  {
   "cell_type": "markdown",
   "metadata": {},
   "source": [
    "#### 2.1.0 The instruction = User-defined function"
   ]
  },
  {
   "cell_type": "code",
   "execution_count": 12,
   "metadata": {},
   "outputs": [],
   "source": [
    "import math\n",
    "def adjust_score(old):\n",
    " new=math.sqrt(old)*10\n",
    " return new"
   ]
  },
  {
   "cell_type": "markdown",
   "metadata": {},
   "source": [
    "#### 2.1.1 The for-loop way (w/ real-time memory allocation)"
   ]
  },
  {
   "cell_type": "code",
   "execution_count": 13,
   "metadata": {},
   "outputs": [
    {
     "name": "stdout",
     "output_type": "stream",
     "text": [
      "[0.0, 31.622776601683796, 44.721359549995796, 54.772255750516614, 63.24555320336759, 70.71067811865476, 77.45966692414834, 83.66600265340756, 89.44271909999159, 94.86832980505139, 100.0]\n"
     ]
    }
   ],
   "source": [
    "scores=[]                 \n",
    "for i in range(0,101,10):\n",
    " scores.append(adjust_score(i))\n",
    " #scores=scores+[adjust_score(i)]\n",
    "print(scores)"
   ]
  },
  {
   "cell_type": "markdown",
   "metadata": {},
   "source": [
    "#### 2.1.2 The for-loop way (w/ memory pre-allocation)"
   ]
  },
  {
   "cell_type": "code",
   "execution_count": 14,
   "metadata": {},
   "outputs": [
    {
     "name": "stdout",
     "output_type": "stream",
     "text": [
      "[0.0, 10.0, 14.142135623730951, 17.32050807568877, 20.0, 22.360679774997898, 24.49489742783178, 26.457513110645905, 28.284271247461902, 30.0, 31.622776601683796]\n"
     ]
    }
   ],
   "source": [
    "old=range(0,101,10)\n",
    "N=len(old)\n",
    "scores=[0.]*N         \n",
    "for i in range(N):\n",
    " scores[i]=adjust_score(i)\n",
    "print(scores)"
   ]
  },
  {
   "cell_type": "markdown",
   "metadata": {},
   "source": [
    "#### 2.1.3  Fake parallel computing using map()"
   ]
  },
  {
   "cell_type": "code",
   "execution_count": 15,
   "metadata": {},
   "outputs": [
    {
     "name": "stdout",
     "output_type": "stream",
     "text": [
      "[0.0, 31.622776601683796, 44.721359549995796, 54.772255750516614, 63.24555320336759, 70.71067811865476, 77.45966692414834, 83.66600265340756, 89.44271909999159, 94.86832980505139, 100.0]\n"
     ]
    }
   ],
   "source": [
    "print(list(map(adjust_score,range(0,101,10))))"
   ]
  },
  {
   "cell_type": "markdown",
   "metadata": {},
   "source": [
    "#### 2.1.3 The NumPy way\n",
    "You don't even need a pre-defined function!"
   ]
  },
  {
   "cell_type": "code",
   "execution_count": 17,
   "metadata": {},
   "outputs": [
    {
     "data": {
      "text/plain": [
       "array([  0.        ,  31.6227766 ,  44.72135955,  54.77225575,\n",
       "        63.2455532 ,  70.71067812,  77.45966692,  83.66600265,\n",
       "        89.4427191 ,  94.86832981, 100.        ])"
      ]
     },
     "execution_count": 17,
     "metadata": {},
     "output_type": "execute_result"
    }
   ],
   "source": [
    "import numpy as np\n",
    "(np.arange(0,101,10)**0.5)*10"
   ]
  },
  {
   "cell_type": "code",
   "execution_count": 23,
   "metadata": {},
   "outputs": [
    {
     "name": "stdout",
     "output_type": "stream",
     "text": [
      "[  1  11  21  31  41  51  61  71  81  91 101]\n",
      "[  0  20  40  60  80 100 120 140 160 180 200]\n",
      "[  0  30  60  90 120 150 180 210 240 270 300]\n"
     ]
    }
   ],
   "source": [
    "a=range(0,101,10)\n",
    "b=np.arange(0,101,10)\n",
    "#print(a+1) #TypeError\n",
    "print(b+1)\n",
    "#print(a+a) #TypeError\n",
    "print(b+b)\n",
    "#print(a*3) #TypeError\n",
    "print(b*3)"
   ]
  },
  {
   "cell_type": "markdown",
   "metadata": {},
   "source": [
    "### 2.2 Random number generation"
   ]
  },
  {
   "cell_type": "code",
   "execution_count": 3,
   "metadata": {},
   "outputs": [
    {
     "name": "stdout",
     "output_type": "stream",
     "text": [
      "[0.6433820642672144, 0.7861950179034561, 0.04288220614995286, 0.7063478577439299, 0.04763903815733683, 0.2608053522026531, 0.549930431685266, 0.7120831306530533, 0.3890340642104998, 0.4838531092863553, 0.47281895729627843, 0.033838015533985466, 0.3254381043363441, 0.03522717509775053, 0.9235438490935541, 0.7363582731584493, 0.8953864478639845, 0.23882196235924835, 0.38475837132147783, 0.6500219861566209, 0.39772732872506333, 0.2607731724674148, 0.7932977692309875, 0.19145032706681442, 0.41580152548889693, 0.8352088828679258, 0.44500013058904453, 0.1661867102965333, 0.3143837286882014, 0.4333755978399815, 0.7944340579259622, 0.45726113230041265, 0.816682449601052, 0.43605252196311095, 0.9249309308435761, 0.8300040444774578, 0.879894328214061, 0.09322377594876219, 0.9719591768474535, 0.7233776295955305, 0.7017256648008848, 0.8654777425208767, 0.40811137762380645, 0.31660290098968136, 0.2179876560509476, 0.8006652894283893, 0.8611672124034392, 0.3313649567375827, 0.9778940213188314, 0.056673524654343055, 0.6172149479178239, 0.8249390105517956, 0.6469266254715178, 0.24256178479885881, 0.9736930617105783, 0.0083683744971218, 0.8688272467602256, 0.8816507927273324, 0.18673828105301615, 0.9903783788145564, 0.8216473086016746, 0.16169999806480073, 0.13704205007892112, 0.7187827872630576, 0.4656132218385125, 0.6732432670159173, 0.1016532960195089, 0.09032390380659605, 0.6963661254376112, 0.31821140464054065, 0.6406175426658963, 0.45558333220267544, 0.5131853956239822, 0.4491946122068641, 0.8143377240549711, 0.26735589286125283, 0.7365097752549307, 0.7479397794768982, 0.9139983899860666, 0.3537527826606358, 0.6561093000886612, 0.11407961020563173, 0.43598302500851593, 0.9106825846134502, 0.16070294920940564, 0.4932445667529133, 0.905937472113114, 0.2910745818958054, 0.8039212985440446, 0.1451311948735542, 0.7202192305726327, 0.21312646581441708, 0.2750431154583033, 0.9232101724650643, 0.7218687925624535, 0.5641506482864059, 0.7228755414817746, 0.6164728582905112, 0.4005996023820685, 0.18198300386657162]\n"
     ]
    }
   ],
   "source": [
    "import random\n",
    "r=[]\n",
    "for i in range(100):\n",
    "   r.append(random.random())\n",
    "print(r)"
   ]
  },
  {
   "cell_type": "code",
   "execution_count": 5,
   "metadata": {},
   "outputs": [
    {
     "name": "stdout",
     "output_type": "stream",
     "text": [
      "[0.37672383 0.14399481 0.79813045 0.66661322 0.251614   0.76625126\n",
      " 0.94359581 0.09130617 0.48223938 0.21721301 0.87215048 0.59509959\n",
      " 0.6372165  0.0591844  0.06415272 0.04090702 0.77589454 0.23231942\n",
      " 0.67225185 0.28396335 0.82885503 0.07005162 0.00378133 0.59991118\n",
      " 0.18946682 0.49700492 0.75433807 0.31354834 0.62864487 0.10775213\n",
      " 0.04620862 0.61831226 0.62645517 0.6578758  0.79486262 0.49766186\n",
      " 0.45065017 0.60361106 0.60673078 0.89179564 0.94543205 0.44899505\n",
      " 0.18514859 0.79681304 0.59967322 0.91916151 0.9872304  0.44671163\n",
      " 0.22803644 0.8513913  0.76473657 0.25610573 0.8407376  0.70726762\n",
      " 0.90605741 0.74174219 0.10512506 0.52519783 0.56514911 0.33040242\n",
      " 0.05037869 0.63000805 0.29977866 0.11830381 0.79248838 0.19528972\n",
      " 0.14538006 0.6321944  0.73714161 0.45205085 0.80110085 0.3353914\n",
      " 0.17567245 0.63438211 0.50507948 0.29049147 0.97711049 0.6234868\n",
      " 0.68815057 0.60117833 0.21370592 0.41871753 0.00687456 0.35128041\n",
      " 0.48761615 0.32659984 0.80098297 0.85825808 0.12091557 0.41595409\n",
      " 0.24083221 0.05233059 0.56109571 0.55676299 0.02972073 0.24379503\n",
      " 0.16333772 0.108883   0.7500056  0.35701563]\n"
     ]
    }
   ],
   "source": [
    "r=np.random.rand(100)\n",
    "print(r)"
   ]
  },
  {
   "cell_type": "markdown",
   "metadata": {},
   "source": [
    "### 2.3 List vs. NumPy Array"
   ]
  },
  {
   "cell_type": "markdown",
   "metadata": {},
   "source": [
    "#### 2.3.1 Nested Lists"
   ]
  },
  {
   "cell_type": "code",
   "execution_count": 9,
   "metadata": {},
   "outputs": [
    {
     "name": "stdout",
     "output_type": "stream",
     "text": [
      "[5566, 'never dies']\n",
      "5\n",
      "5566\n",
      "range(0, 3)\n"
     ]
    }
   ],
   "source": [
    "a=[[5566,'never dies'],5,[[['R',range(3)],'doll'],6]]\n",
    "print(a[0]) #[5566, 'never dies']\n",
    "print(a[1]) #5\n",
    "print(a[0][0]) #5566\n",
    "print(a[2][0][0][1]) #range(0,3)"
   ]
  },
  {
   "cell_type": "markdown",
   "metadata": {},
   "source": [
    "#### 2.3.2 Indexing & Slicing"
   ]
  },
  {
   "cell_type": "code",
   "execution_count": 14,
   "metadata": {},
   "outputs": [
    {
     "name": "stdout",
     "output_type": "stream",
     "text": [
      "[[0.         1.         2.        ]\n",
      " [0.12073178 0.99001788 0.29338377]]\n",
      "float64\n",
      "[[0.         0.12073178]\n",
      " [1.         0.99001788]\n",
      " [2.         0.29338377]]\n"
     ]
    }
   ],
   "source": [
    "a=np.array([range(3),np.random.rand(3)])\n",
    "print(a)\n",
    "print(a.dtype) #dtype('float64')\n",
    "print(a.T) # transpose:矩陣轉置"
   ]
  },
  {
   "cell_type": "code",
   "execution_count": 15,
   "metadata": {},
   "outputs": [
    {
     "name": "stdout",
     "output_type": "stream",
     "text": [
      "2.0\n",
      "2.0\n",
      "[0. 1. 2.]\n",
      "[1. 2.]\n"
     ]
    }
   ],
   "source": [
    "print(a[0][2]) #2.0\n",
    "print(a[0,2]) #2.0\n",
    "print(a[0,:]) #array([ 0.,  1.,  2.]) \n",
    "print(a[0,1:3]) #array([ 1.,  2.])"
   ]
  },
  {
   "cell_type": "code",
   "execution_count": 16,
   "metadata": {},
   "outputs": [
    {
     "name": "stdout",
     "output_type": "stream",
     "text": [
      "0.7340222376538051\n",
      "[0.06036589 0.99500894 1.14669189]\n",
      "[1.         0.46804448]\n"
     ]
    }
   ],
   "source": [
    "print(np.mean(a))\n",
    "print(np.mean(a,0))\n",
    "print(np.mean(a,1))"
   ]
  },
  {
   "cell_type": "markdown",
   "metadata": {},
   "source": [
    "### 2.4 Experimental Design"
   ]
  },
  {
   "cell_type": "markdown",
   "metadata": {},
   "source": [
    "#### 2.4.1 Randomized design"
   ]
  },
  {
   "cell_type": "code",
   "execution_count": 19,
   "metadata": {},
   "outputs": [
    {
     "name": "stdout",
     "output_type": "stream",
     "text": [
      "[0 0 0 0 1 2 1 1 0 1 0 0 2 2 0]\n"
     ]
    }
   ],
   "source": [
    "trials=np.random.randint(0,3,15)\n",
    "print(trials)"
   ]
  },
  {
   "cell_type": "markdown",
   "metadata": {},
   "source": [
    "#### 2.4.2 Counterbalanced design"
   ]
  },
  {
   "cell_type": "code",
   "execution_count": 20,
   "metadata": {},
   "outputs": [
    {
     "name": "stdout",
     "output_type": "stream",
     "text": [
      "[1 0 1 0 2 0 2 0 2 1 0 2 1 2 1]\n"
     ]
    }
   ],
   "source": [
    "trials=np.array(list(range(3))*5) #3 conditions, each with 5 repetitions\n",
    "trials=np.random.permutation(trials)\n",
    "print(trials)"
   ]
  },
  {
   "cell_type": "markdown",
   "metadata": {},
   "source": [
    "#### 2.4.3 Randomized design"
   ]
  },
  {
   "cell_type": "code",
   "execution_count": 22,
   "metadata": {},
   "outputs": [
    {
     "name": "stdout",
     "output_type": "stream",
     "text": [
      "1\n",
      "0\n",
      "I got you!\n",
      "1\n",
      "0\n",
      "I got you!\n",
      "2\n",
      "0\n",
      "I got you!\n",
      "2\n",
      "0\n",
      "I got you!\n",
      "2\n",
      "1\n",
      "0\n",
      "I got you!\n",
      "2\n",
      "1\n",
      "2\n",
      "1\n"
     ]
    }
   ],
   "source": [
    "for t in trials:\n",
    "  print(t)\n",
    "  if t==0:\n",
    "    print(\"I got you!\")"
   ]
  },
  {
   "cell_type": "markdown",
   "metadata": {},
   "source": [
    "### 2.5 Data Analysis"
   ]
  },
  {
   "cell_type": "markdown",
   "metadata": {},
   "source": [
    "#### 2.5.0 The data"
   ]
  },
  {
   "cell_type": "code",
   "execution_count": 27,
   "metadata": {},
   "outputs": [
    {
     "name": "stdout",
     "output_type": "stream",
     "text": [
      "(600, 3)\n",
      "[[ 1.        1.       -1.      ]\n",
      " [ 0.        1.        0.444112]\n",
      " [ 1.        0.       -1.      ]\n",
      " ...\n",
      " [ 2.        1.        1.34273 ]\n",
      " [ 0.        1.        0.234749]\n",
      " [ 1.        0.        1.265979]]\n"
     ]
    }
   ],
   "source": [
    "data=np.loadtxt('https://ceiba.ntu.edu.tw/course/8b9c5e/content/exp_subj0.txt')\n",
    "print(data.shape)\n",
    "print(data)"
   ]
  },
  {
   "cell_type": "markdown",
   "metadata": {},
   "source": [
    "#### 2.5.1 Data Cleaning"
   ]
  },
  {
   "cell_type": "code",
   "execution_count": 29,
   "metadata": {},
   "outputs": [
    {
     "name": "stdout",
     "output_type": "stream",
     "text": [
      "[False  True False  True  True  True  True  True  True  True  True  True\n",
      "  True  True  True  True  True  True  True  True  True  True  True  True\n",
      "  True  True  True  True  True  True  True  True False  True  True  True\n",
      "  True  True  True  True  True  True  True  True  True  True  True  True\n",
      " False  True  True  True  True  True  True  True  True  True  True  True\n",
      "  True  True  True  True False  True  True  True  True  True  True  True\n",
      "  True  True  True  True  True  True  True  True  True  True  True  True\n",
      "  True  True False  True  True  True  True  True  True  True  True False\n",
      "  True  True  True  True  True  True  True  True  True  True  True  True\n",
      "  True  True  True  True  True  True False  True  True  True  True  True\n",
      "  True  True  True  True  True  True  True  True False  True  True  True\n",
      "  True  True  True  True  True  True  True  True  True  True False  True\n",
      "  True  True  True  True  True  True  True  True  True  True  True  True\n",
      "  True False  True  True  True  True  True  True  True  True  True  True\n",
      "  True  True  True  True  True  True  True  True  True  True  True  True\n",
      "  True  True  True  True  True  True  True  True  True  True  True  True\n",
      "  True  True False  True  True  True  True  True  True  True  True  True\n",
      "  True  True  True  True  True  True  True  True  True  True  True  True\n",
      "  True  True  True  True  True  True  True  True  True  True  True False\n",
      " False  True  True  True  True  True  True  True  True  True  True False\n",
      "  True  True  True  True  True False  True  True  True  True  True  True\n",
      "  True  True  True  True  True  True  True  True  True  True  True  True\n",
      "  True  True  True  True  True  True  True  True  True  True  True  True\n",
      "  True  True  True  True  True  True  True  True  True  True  True  True\n",
      "  True  True  True  True  True  True  True  True  True  True  True  True\n",
      "  True  True  True False  True  True  True  True  True  True  True False\n",
      "  True  True  True  True  True  True  True  True  True  True  True  True\n",
      "  True  True  True  True  True  True  True  True  True  True  True  True\n",
      "  True  True  True  True  True  True  True  True  True False  True  True\n",
      "  True  True  True  True  True  True  True  True  True  True  True  True\n",
      " False  True  True  True  True  True  True  True  True  True  True  True\n",
      "  True False  True  True  True  True  True  True  True  True  True  True\n",
      "  True  True  True  True  True  True  True  True False  True  True  True\n",
      "  True  True False  True  True False  True  True  True False  True False\n",
      "  True  True  True  True  True  True  True False False  True False  True\n",
      "  True  True False False  True  True  True  True  True  True  True  True\n",
      "  True  True  True  True  True  True  True  True  True  True  True  True\n",
      "  True  True  True  True  True  True  True  True  True  True  True  True\n",
      " False  True  True  True  True  True  True False  True  True  True  True\n",
      "  True  True  True  True  True  True  True  True  True  True  True  True\n",
      "  True  True  True False  True  True  True  True  True  True  True  True\n",
      "  True  True  True  True  True  True  True  True  True False  True  True\n",
      "  True  True  True  True  True  True  True  True  True  True  True  True\n",
      "  True  True False  True False  True  True  True  True  True  True  True\n",
      "  True  True  True  True  True  True  True  True  True  True  True  True\n",
      "  True  True  True  True  True  True  True  True  True  True  True  True\n",
      "  True  True False  True  True  True False  True  True  True  True  True\n",
      " False  True  True  True  True  True  True  True  True  True  True  True\n",
      "  True  True  True False  True  True  True  True  True  True  True  True\n",
      "  True  True  True  True  True  True  True  True  True  True  True  True]\n"
     ]
    }
   ],
   "source": [
    "valid=(data[:,2]>0)\n",
    "print(valid)"
   ]
  },
  {
   "cell_type": "code",
   "execution_count": 30,
   "metadata": {},
   "outputs": [
    {
     "name": "stdout",
     "output_type": "stream",
     "text": [
      "(559, 3)\n"
     ]
    }
   ],
   "source": [
    "data=data[valid,:] \n",
    "print(data.shape)"
   ]
  },
  {
   "cell_type": "code",
   "execution_count": 31,
   "metadata": {},
   "outputs": [
    {
     "name": "stdout",
     "output_type": "stream",
     "text": [
      "0.7334525939177102 1.4223639642218249\n"
     ]
    }
   ],
   "source": [
    "print(np.mean(data[:,1]),np.mean(data[:,2]))"
   ]
  },
  {
   "cell_type": "markdown",
   "metadata": {},
   "source": [
    "#### 2.5.2 Data Grouping"
   ]
  },
  {
   "cell_type": "code",
   "execution_count": 33,
   "metadata": {},
   "outputs": [
    {
     "name": "stdout",
     "output_type": "stream",
     "text": [
      "[[0.       1.       0.444112]\n",
      " [0.       1.       0.707072]\n",
      " [0.       1.       0.93746 ]\n",
      " [0.       1.       0.267898]\n",
      " [0.       1.       0.169737]\n",
      " [0.       1.       0.61493 ]\n",
      " [0.       1.       0.715088]\n",
      " [0.       1.       0.432644]\n",
      " [0.       1.       0.432958]\n",
      " [0.       0.       0.212021]\n",
      " [0.       1.       1.130621]\n",
      " [0.       1.       0.393247]\n",
      " [0.       1.       1.264273]\n",
      " [0.       1.       1.083361]\n",
      " [0.       1.       0.750629]\n",
      " [0.       1.       1.274121]\n",
      " [0.       0.       0.016528]\n",
      " [0.       1.       0.32822 ]\n",
      " [0.       1.       1.812194]\n",
      " [0.       1.       0.828769]\n",
      " [0.       1.       0.651596]\n",
      " [0.       1.       1.150661]\n",
      " [0.       1.       0.983291]\n",
      " [0.       1.       0.247162]\n",
      " [0.       1.       0.646985]\n",
      " [0.       1.       1.755481]\n",
      " [0.       1.       1.385639]\n",
      " [0.       1.       0.128244]\n",
      " [0.       1.       2.173814]\n",
      " [0.       1.       0.744234]\n",
      " [0.       1.       0.442768]\n",
      " [0.       1.       0.34323 ]\n",
      " [0.       1.       0.362069]\n",
      " [0.       1.       0.818007]\n",
      " [0.       0.       0.970415]\n",
      " [0.       1.       0.255557]\n",
      " [0.       0.       0.212576]\n",
      " [0.       1.       0.010224]\n",
      " [0.       1.       0.308839]\n",
      " [0.       1.       0.311125]\n",
      " [0.       1.       0.902229]\n",
      " [0.       1.       0.323554]\n",
      " [0.       1.       1.904292]\n",
      " [0.       1.       1.152127]\n",
      " [0.       1.       0.170045]\n",
      " [0.       1.       1.636108]\n",
      " [0.       1.       0.491708]\n",
      " [0.       1.       0.335724]\n",
      " [0.       1.       0.261411]\n",
      " [0.       1.       0.809627]\n",
      " [0.       1.       0.437729]\n",
      " [0.       1.       0.929092]\n",
      " [0.       1.       0.337645]\n",
      " [0.       0.       0.840115]\n",
      " [0.       1.       0.266496]\n",
      " [0.       1.       0.597483]\n",
      " [0.       1.       0.81901 ]\n",
      " [0.       1.       0.379814]\n",
      " [0.       1.       0.496655]\n",
      " [0.       1.       1.168942]\n",
      " [0.       1.       1.02815 ]\n",
      " [0.       1.       0.90684 ]\n",
      " [0.       1.       1.12763 ]\n",
      " [0.       1.       0.355841]\n",
      " [0.       1.       0.733893]\n",
      " [0.       1.       0.707648]\n",
      " [0.       0.       0.079027]\n",
      " [0.       1.       1.137693]\n",
      " [0.       1.       0.462551]\n",
      " [0.       1.       0.866131]\n",
      " [0.       1.       0.121122]\n",
      " [0.       1.       1.080463]\n",
      " [0.       1.       0.531575]\n",
      " [0.       1.       0.925403]\n",
      " [0.       1.       0.737337]\n",
      " [0.       1.       0.415566]\n",
      " [0.       1.       0.973438]\n",
      " [0.       1.       0.805938]\n",
      " [0.       1.       1.322   ]\n",
      " [0.       1.       0.682271]\n",
      " [0.       1.       0.766486]\n",
      " [0.       1.       0.590805]\n",
      " [0.       1.       0.365757]\n",
      " [0.       1.       0.73426 ]\n",
      " [0.       1.       1.703883]\n",
      " [0.       1.       0.396767]\n",
      " [0.       1.       0.640385]\n",
      " [0.       1.       0.111017]\n",
      " [0.       1.       0.676061]\n",
      " [0.       1.       0.113963]\n",
      " [0.       1.       0.707028]\n",
      " [0.       1.       1.146046]\n",
      " [0.       1.       0.079913]\n",
      " [0.       1.       0.80495 ]\n",
      " [0.       0.       0.44166 ]\n",
      " [0.       1.       0.671714]\n",
      " [0.       1.       0.526339]\n",
      " [0.       1.       0.538535]\n",
      " [0.       0.       0.797128]\n",
      " [0.       1.       0.968105]\n",
      " [0.       1.       0.525158]\n",
      " [0.       1.       0.500139]\n",
      " [0.       1.       0.566011]\n",
      " [0.       1.       0.081674]\n",
      " [0.       1.       0.233076]\n",
      " [0.       1.       0.741292]\n",
      " [0.       1.       0.278003]\n",
      " [0.       1.       0.357593]\n",
      " [0.       1.       0.080485]\n",
      " [0.       1.       0.288295]\n",
      " [0.       1.       0.952073]\n",
      " [0.       1.       0.155816]\n",
      " [0.       1.       0.640933]\n",
      " [0.       1.       1.223719]\n",
      " [0.       1.       0.455792]\n",
      " [0.       1.       1.172746]\n",
      " [0.       1.       1.202346]\n",
      " [0.       1.       0.288748]\n",
      " [0.       1.       1.293755]\n",
      " [0.       1.       1.013098]\n",
      " [0.       1.       1.239571]\n",
      " [0.       1.       1.953763]\n",
      " [0.       1.       0.035533]\n",
      " [0.       0.       1.026069]\n",
      " [0.       1.       0.866594]\n",
      " [0.       1.       0.864782]\n",
      " [0.       1.       0.147224]\n",
      " [0.       1.       0.141261]\n",
      " [0.       1.       0.019075]\n",
      " [0.       1.       1.251169]\n",
      " [0.       1.       0.38233 ]\n",
      " [0.       1.       1.359265]\n",
      " [0.       1.       1.145777]\n",
      " [0.       1.       0.470593]\n",
      " [0.       1.       0.503987]\n",
      " [0.       1.       0.033502]\n",
      " [0.       1.       0.186026]\n",
      " [0.       1.       1.728522]\n",
      " [0.       1.       0.110585]\n",
      " [0.       1.       0.386365]\n",
      " [0.       1.       0.298109]\n",
      " [0.       1.       0.470469]\n",
      " [0.       0.       0.906108]\n",
      " [0.       0.       0.940004]\n",
      " [0.       0.       1.299944]\n",
      " [0.       0.       1.02455 ]\n",
      " [0.       1.       0.145668]\n",
      " [0.       1.       1.567827]\n",
      " [0.       1.       1.303734]\n",
      " [0.       1.       0.224628]\n",
      " [0.       1.       0.872474]\n",
      " [0.       1.       0.061169]\n",
      " [0.       1.       1.314712]\n",
      " [0.       1.       1.962272]\n",
      " [0.       1.       0.978848]\n",
      " [0.       1.       0.764787]\n",
      " [0.       1.       0.787757]\n",
      " [0.       1.       0.593626]\n",
      " [0.       1.       1.829132]\n",
      " [0.       1.       0.947181]\n",
      " [0.       1.       1.306281]\n",
      " [0.       1.       0.760024]\n",
      " [0.       1.       0.918657]\n",
      " [0.       1.       0.803923]\n",
      " [0.       1.       0.814462]\n",
      " [0.       1.       0.944026]\n",
      " [0.       0.       0.310973]\n",
      " [0.       0.       1.145303]\n",
      " [0.       0.       0.483495]\n",
      " [0.       1.       0.444947]\n",
      " [0.       1.       0.788401]\n",
      " [0.       1.       1.000344]\n",
      " [0.       1.       0.837644]\n",
      " [0.       1.       0.13323 ]\n",
      " [0.       0.       0.241212]\n",
      " [0.       1.       1.142536]\n",
      " [0.       0.       1.497385]\n",
      " [0.       1.       1.209174]\n",
      " [0.       1.       1.330084]\n",
      " [0.       1.       1.234189]\n",
      " [0.       1.       0.589747]\n",
      " [0.       1.       0.774781]\n",
      " [0.       1.       1.829303]\n",
      " [0.       1.       0.574722]\n",
      " [0.       1.       0.210429]\n",
      " [0.       0.       0.839874]\n",
      " [0.       1.       0.132058]\n",
      " [0.       1.       0.925618]\n",
      " [0.       1.       1.54675 ]\n",
      " [0.       1.       0.412771]\n",
      " [0.       1.       0.990832]\n",
      " [0.       0.       0.629097]\n",
      " [0.       1.       0.206344]\n",
      " [0.       1.       1.231365]\n",
      " [0.       0.       0.664396]\n",
      " [0.       1.       0.42167 ]\n",
      " [0.       1.       1.17237 ]\n",
      " [0.       1.       0.42957 ]\n",
      " [0.       1.       1.029584]\n",
      " [0.       1.       0.234749]]\n"
     ]
    }
   ],
   "source": [
    "Ngroups=np.unique(data[:,0]).size\n",
    "groups=[0]*Ngroups\n",
    "for i in range(Ngroups):\n",
    "  selector=(data[:,0]==i)\n",
    "  groups[i]=data[selector,:]\n",
    "print(groups[0])"
   ]
  },
  {
   "cell_type": "markdown",
   "metadata": {},
   "source": [
    "## 3 Pandas\n",
    "\n",
    "Cheat Sheet 1: https://github.com/pandas-dev/pandas/blob/master/doc/cheatsheet/Pandas_Cheat_Sheet.pdf <br>\n",
    "Cheat Sheet 2: https://drive.google.com/drive/u/1/folders/0ByIrJAE4KMTtaGhRcXkxNHhmY2M"
   ]
  },
  {
   "cell_type": "markdown",
   "metadata": {},
   "source": [
    "### 3.0 The data"
   ]
  },
  {
   "cell_type": "code",
   "execution_count": 58,
   "metadata": {},
   "outputs": [],
   "source": [
    "import pandas as pd\n",
    "df=pd.read_table('https://ceiba.ntu.edu.tw/course/8b9c5e/content/exp_subj0.txt',sep=' ',header=None)"
   ]
  },
  {
   "cell_type": "code",
   "execution_count": 60,
   "metadata": {},
   "outputs": [
    {
     "data": {
      "text/html": [
       "<div>\n",
       "<style scoped>\n",
       "    .dataframe tbody tr th:only-of-type {\n",
       "        vertical-align: middle;\n",
       "    }\n",
       "\n",
       "    .dataframe tbody tr th {\n",
       "        vertical-align: top;\n",
       "    }\n",
       "\n",
       "    .dataframe thead th {\n",
       "        text-align: right;\n",
       "    }\n",
       "</style>\n",
       "<table border=\"1\" class=\"dataframe\">\n",
       "  <thead>\n",
       "    <tr style=\"text-align: right;\">\n",
       "      <th></th>\n",
       "      <th>0</th>\n",
       "      <th>1</th>\n",
       "      <th>2</th>\n",
       "    </tr>\n",
       "  </thead>\n",
       "  <tbody>\n",
       "    <tr>\n",
       "      <th>0</th>\n",
       "      <td>1</td>\n",
       "      <td>1</td>\n",
       "      <td>-1.000000</td>\n",
       "    </tr>\n",
       "    <tr>\n",
       "      <th>1</th>\n",
       "      <td>0</td>\n",
       "      <td>1</td>\n",
       "      <td>0.444112</td>\n",
       "    </tr>\n",
       "    <tr>\n",
       "      <th>2</th>\n",
       "      <td>1</td>\n",
       "      <td>0</td>\n",
       "      <td>-1.000000</td>\n",
       "    </tr>\n",
       "    <tr>\n",
       "      <th>3</th>\n",
       "      <td>1</td>\n",
       "      <td>0</td>\n",
       "      <td>2.597051</td>\n",
       "    </tr>\n",
       "    <tr>\n",
       "      <th>4</th>\n",
       "      <td>2</td>\n",
       "      <td>1</td>\n",
       "      <td>1.927228</td>\n",
       "    </tr>\n",
       "  </tbody>\n",
       "</table>\n",
       "</div>"
      ],
      "text/plain": [
       "   0  1         2\n",
       "0  1  1 -1.000000\n",
       "1  0  1  0.444112\n",
       "2  1  0 -1.000000\n",
       "3  1  0  2.597051\n",
       "4  2  1  1.927228"
      ]
     },
     "execution_count": 60,
     "metadata": {},
     "output_type": "execute_result"
    }
   ],
   "source": [
    "df.head()"
   ]
  },
  {
   "cell_type": "code",
   "execution_count": 70,
   "metadata": {},
   "outputs": [
    {
     "data": {
      "text/html": [
       "<div>\n",
       "<style scoped>\n",
       "    .dataframe tbody tr th:only-of-type {\n",
       "        vertical-align: middle;\n",
       "    }\n",
       "\n",
       "    .dataframe tbody tr th {\n",
       "        vertical-align: top;\n",
       "    }\n",
       "\n",
       "    .dataframe thead th {\n",
       "        text-align: right;\n",
       "    }\n",
       "</style>\n",
       "<table border=\"1\" class=\"dataframe\">\n",
       "  <thead>\n",
       "    <tr style=\"text-align: right;\">\n",
       "      <th></th>\n",
       "      <th>group</th>\n",
       "      <th>if_correct</th>\n",
       "      <th>rt</th>\n",
       "    </tr>\n",
       "  </thead>\n",
       "  <tbody>\n",
       "    <tr>\n",
       "      <th>595</th>\n",
       "      <td>2</td>\n",
       "      <td>0</td>\n",
       "      <td>1.073633</td>\n",
       "    </tr>\n",
       "    <tr>\n",
       "      <th>596</th>\n",
       "      <td>0</td>\n",
       "      <td>1</td>\n",
       "      <td>1.029584</td>\n",
       "    </tr>\n",
       "    <tr>\n",
       "      <th>597</th>\n",
       "      <td>2</td>\n",
       "      <td>1</td>\n",
       "      <td>1.342730</td>\n",
       "    </tr>\n",
       "    <tr>\n",
       "      <th>598</th>\n",
       "      <td>0</td>\n",
       "      <td>1</td>\n",
       "      <td>0.234749</td>\n",
       "    </tr>\n",
       "    <tr>\n",
       "      <th>599</th>\n",
       "      <td>1</td>\n",
       "      <td>0</td>\n",
       "      <td>1.265979</td>\n",
       "    </tr>\n",
       "  </tbody>\n",
       "</table>\n",
       "</div>"
      ],
      "text/plain": [
       "     group  if_correct        rt\n",
       "595      2           0  1.073633\n",
       "596      0           1  1.029584\n",
       "597      2           1  1.342730\n",
       "598      0           1  0.234749\n",
       "599      1           0  1.265979"
      ]
     },
     "execution_count": 70,
     "metadata": {},
     "output_type": "execute_result"
    }
   ],
   "source": [
    "df.columns=['group','if_correct','rt']\n",
    "df.tail()"
   ]
  },
  {
   "cell_type": "code",
   "execution_count": 71,
   "metadata": {},
   "outputs": [
    {
     "data": {
      "text/html": [
       "<div>\n",
       "<style scoped>\n",
       "    .dataframe tbody tr th:only-of-type {\n",
       "        vertical-align: middle;\n",
       "    }\n",
       "\n",
       "    .dataframe tbody tr th {\n",
       "        vertical-align: top;\n",
       "    }\n",
       "\n",
       "    .dataframe thead th {\n",
       "        text-align: right;\n",
       "    }\n",
       "</style>\n",
       "<table border=\"1\" class=\"dataframe\">\n",
       "  <thead>\n",
       "    <tr style=\"text-align: right;\">\n",
       "      <th></th>\n",
       "      <th>group</th>\n",
       "      <th>if_correct</th>\n",
       "      <th>rt</th>\n",
       "    </tr>\n",
       "  </thead>\n",
       "  <tbody>\n",
       "    <tr>\n",
       "      <th>295</th>\n",
       "      <td>2</td>\n",
       "      <td>0</td>\n",
       "      <td>1.384742</td>\n",
       "    </tr>\n",
       "    <tr>\n",
       "      <th>262</th>\n",
       "      <td>0</td>\n",
       "      <td>1</td>\n",
       "      <td>1.322000</td>\n",
       "    </tr>\n",
       "    <tr>\n",
       "      <th>191</th>\n",
       "      <td>1</td>\n",
       "      <td>1</td>\n",
       "      <td>2.403221</td>\n",
       "    </tr>\n",
       "    <tr>\n",
       "      <th>105</th>\n",
       "      <td>1</td>\n",
       "      <td>1</td>\n",
       "      <td>1.309100</td>\n",
       "    </tr>\n",
       "    <tr>\n",
       "      <th>478</th>\n",
       "      <td>0</td>\n",
       "      <td>1</td>\n",
       "      <td>0.978848</td>\n",
       "    </tr>\n",
       "  </tbody>\n",
       "</table>\n",
       "</div>"
      ],
      "text/plain": [
       "     group  if_correct        rt\n",
       "295      2           0  1.384742\n",
       "262      0           1  1.322000\n",
       "191      1           1  2.403221\n",
       "105      1           1  1.309100\n",
       "478      0           1  0.978848"
      ]
     },
     "execution_count": 71,
     "metadata": {},
     "output_type": "execute_result"
    }
   ],
   "source": [
    "df.sample(5)"
   ]
  },
  {
   "cell_type": "code",
   "execution_count": 77,
   "metadata": {},
   "outputs": [
    {
     "data": {
      "text/plain": [
       "0   -1.000000\n",
       "2   -1.000000\n",
       "4    1.927228\n",
       "6    2.821356\n",
       "8    0.937460\n",
       "Name: rt, dtype: float64"
      ]
     },
     "execution_count": 77,
     "metadata": {},
     "output_type": "execute_result"
    }
   ],
   "source": [
    "df['rt'][0:10:2]"
   ]
  },
  {
   "cell_type": "code",
   "execution_count": 81,
   "metadata": {},
   "outputs": [
    {
     "data": {
      "text/plain": [
       "0         NaN\n",
       "2         NaN\n",
       "4    1.927228\n",
       "6    2.821356\n",
       "8    0.937460\n",
       "Name: rt, dtype: float64"
      ]
     },
     "execution_count": 81,
     "metadata": {},
     "output_type": "execute_result"
    }
   ],
   "source": [
    "df[df['rt']==-1]=np.NaN\n",
    "df['rt'][0:10:2]"
   ]
  },
  {
   "cell_type": "code",
   "execution_count": 84,
   "metadata": {},
   "outputs": [
    {
     "name": "stdout",
     "output_type": "stream",
     "text": [
      "(600, 3)\n",
      "(559, 3)\n"
     ]
    }
   ],
   "source": [
    "df2=df.dropna()\n",
    "print(df.shape)\n",
    "print(df2.shape)"
   ]
  },
  {
   "cell_type": "markdown",
   "metadata": {},
   "source": [
    "### 3.1 Descriptive Statistics"
   ]
  },
  {
   "cell_type": "code",
   "execution_count": 85,
   "metadata": {},
   "outputs": [
    {
     "data": {
      "text/html": [
       "<div>\n",
       "<style scoped>\n",
       "    .dataframe tbody tr th:only-of-type {\n",
       "        vertical-align: middle;\n",
       "    }\n",
       "\n",
       "    .dataframe tbody tr th {\n",
       "        vertical-align: top;\n",
       "    }\n",
       "\n",
       "    .dataframe thead th {\n",
       "        text-align: right;\n",
       "    }\n",
       "</style>\n",
       "<table border=\"1\" class=\"dataframe\">\n",
       "  <thead>\n",
       "    <tr style=\"text-align: right;\">\n",
       "      <th></th>\n",
       "      <th>group</th>\n",
       "      <th>if_correct</th>\n",
       "      <th>rt</th>\n",
       "    </tr>\n",
       "  </thead>\n",
       "  <tbody>\n",
       "    <tr>\n",
       "      <th>count</th>\n",
       "      <td>559.000000</td>\n",
       "      <td>559.000000</td>\n",
       "      <td>559.000000</td>\n",
       "    </tr>\n",
       "    <tr>\n",
       "      <th>mean</th>\n",
       "      <td>0.996422</td>\n",
       "      <td>0.733453</td>\n",
       "      <td>1.422364</td>\n",
       "    </tr>\n",
       "    <tr>\n",
       "      <th>std</th>\n",
       "      <td>0.844541</td>\n",
       "      <td>0.442550</td>\n",
       "      <td>0.791676</td>\n",
       "    </tr>\n",
       "    <tr>\n",
       "      <th>min</th>\n",
       "      <td>0.000000</td>\n",
       "      <td>0.000000</td>\n",
       "      <td>0.010224</td>\n",
       "    </tr>\n",
       "    <tr>\n",
       "      <th>25%</th>\n",
       "      <td>0.000000</td>\n",
       "      <td>0.000000</td>\n",
       "      <td>0.792841</td>\n",
       "    </tr>\n",
       "    <tr>\n",
       "      <th>50%</th>\n",
       "      <td>1.000000</td>\n",
       "      <td>1.000000</td>\n",
       "      <td>1.389238</td>\n",
       "    </tr>\n",
       "    <tr>\n",
       "      <th>75%</th>\n",
       "      <td>2.000000</td>\n",
       "      <td>1.000000</td>\n",
       "      <td>2.041697</td>\n",
       "    </tr>\n",
       "    <tr>\n",
       "      <th>max</th>\n",
       "      <td>2.000000</td>\n",
       "      <td>1.000000</td>\n",
       "      <td>2.987938</td>\n",
       "    </tr>\n",
       "  </tbody>\n",
       "</table>\n",
       "</div>"
      ],
      "text/plain": [
       "            group  if_correct          rt\n",
       "count  559.000000  559.000000  559.000000\n",
       "mean     0.996422    0.733453    1.422364\n",
       "std      0.844541    0.442550    0.791676\n",
       "min      0.000000    0.000000    0.010224\n",
       "25%      0.000000    0.000000    0.792841\n",
       "50%      1.000000    1.000000    1.389238\n",
       "75%      2.000000    1.000000    2.041697\n",
       "max      2.000000    1.000000    2.987938"
      ]
     },
     "execution_count": 85,
     "metadata": {},
     "output_type": "execute_result"
    }
   ],
   "source": [
    "df2.describe()"
   ]
  },
  {
   "cell_type": "markdown",
   "metadata": {},
   "source": [
    "### 3.2 Data Visualization"
   ]
  },
  {
   "cell_type": "code",
   "execution_count": 88,
   "metadata": {},
   "outputs": [
    {
     "data": {
      "image/png": "[encoded data removed]",
      "text/plain": [
       "<Figure size 432x288 with 1 Axes>"
      ]
     },
     "metadata": {},
     "output_type": "display_data"
    }
   ],
   "source": [
    "df2.plot.hist(alpha=0.5);"
   ]
  },
  {
   "cell_type": "code",
   "execution_count": 103,
   "metadata": {},
   "outputs": [
    {
     "data": {
      "image/png": "[encoded data removed]",
      "text/plain": [
       "<Figure size 720x720 with 9 Axes>"
      ]
     },
     "metadata": {},
     "output_type": "display_data"
    }
   ],
   "source": [
    "import matplotlib.pyplot as plt\n",
    "plt.rcParams['figure.figsize']=[10,10] #inches\n",
    "pd.plotting.scatter_matrix(df2);"
   ]
  },
  {
   "cell_type": "markdown",
   "metadata": {},
   "source": [
    "### 3.3 SQL-like Queries\n",
    "See more info @ https://pandas.pydata.org/pandas-docs/stable/comparison_with_sql.html"
   ]
  },
  {
   "cell_type": "code",
   "execution_count": 108,
   "metadata": {},
   "outputs": [
    {
     "data": {
      "text/plain": [
       "group\n",
       "0.0    200\n",
       "1.0    161\n",
       "2.0    198\n",
       "dtype: int64"
      ]
     },
     "execution_count": 108,
     "metadata": {},
     "output_type": "execute_result"
    }
   ],
   "source": [
    "df2.groupby('group').size()"
   ]
  },
  {
   "cell_type": "code",
   "execution_count": 109,
   "metadata": {},
   "outputs": [
    {
     "data": {
      "text/html": [
       "<div>\n",
       "<style scoped>\n",
       "    .dataframe tbody tr th:only-of-type {\n",
       "        vertical-align: middle;\n",
       "    }\n",
       "\n",
       "    .dataframe tbody tr th {\n",
       "        vertical-align: top;\n",
       "    }\n",
       "\n",
       "    .dataframe thead th {\n",
       "        text-align: right;\n",
       "    }\n",
       "</style>\n",
       "<table border=\"1\" class=\"dataframe\">\n",
       "  <thead>\n",
       "    <tr style=\"text-align: right;\">\n",
       "      <th></th>\n",
       "      <th>if_correct</th>\n",
       "      <th>rt</th>\n",
       "    </tr>\n",
       "    <tr>\n",
       "      <th>group</th>\n",
       "      <th></th>\n",
       "      <th></th>\n",
       "    </tr>\n",
       "  </thead>\n",
       "  <tbody>\n",
       "    <tr>\n",
       "      <th>0.0</th>\n",
       "      <td>200</td>\n",
       "      <td>200</td>\n",
       "    </tr>\n",
       "    <tr>\n",
       "      <th>1.0</th>\n",
       "      <td>161</td>\n",
       "      <td>161</td>\n",
       "    </tr>\n",
       "    <tr>\n",
       "      <th>2.0</th>\n",
       "      <td>198</td>\n",
       "      <td>198</td>\n",
       "    </tr>\n",
       "  </tbody>\n",
       "</table>\n",
       "</div>"
      ],
      "text/plain": [
       "       if_correct   rt\n",
       "group                 \n",
       "0.0           200  200\n",
       "1.0           161  161\n",
       "2.0           198  198"
      ]
     },
     "execution_count": 109,
     "metadata": {},
     "output_type": "execute_result"
    }
   ],
   "source": [
    "df2.groupby('group').count()"
   ]
  },
  {
   "cell_type": "code",
   "execution_count": 112,
   "metadata": {},
   "outputs": [
    {
     "data": {
      "text/html": [
       "<div>\n",
       "<style scoped>\n",
       "    .dataframe tbody tr th:only-of-type {\n",
       "        vertical-align: middle;\n",
       "    }\n",
       "\n",
       "    .dataframe tbody tr th {\n",
       "        vertical-align: top;\n",
       "    }\n",
       "\n",
       "    .dataframe thead th {\n",
       "        text-align: right;\n",
       "    }\n",
       "</style>\n",
       "<table border=\"1\" class=\"dataframe\">\n",
       "  <thead>\n",
       "    <tr style=\"text-align: right;\">\n",
       "      <th></th>\n",
       "      <th>if_correct</th>\n",
       "      <th>rt</th>\n",
       "    </tr>\n",
       "    <tr>\n",
       "      <th>group</th>\n",
       "      <th></th>\n",
       "      <th></th>\n",
       "    </tr>\n",
       "  </thead>\n",
       "  <tbody>\n",
       "    <tr>\n",
       "      <th>0.0</th>\n",
       "      <td>0.895000</td>\n",
       "      <td>0.730735</td>\n",
       "    </tr>\n",
       "    <tr>\n",
       "      <th>1.0</th>\n",
       "      <td>0.571429</td>\n",
       "      <td>2.202744</td>\n",
       "    </tr>\n",
       "    <tr>\n",
       "      <th>2.0</th>\n",
       "      <td>0.702020</td>\n",
       "      <td>1.486428</td>\n",
       "    </tr>\n",
       "  </tbody>\n",
       "</table>\n",
       "</div>"
      ],
      "text/plain": [
       "       if_correct        rt\n",
       "group                      \n",
       "0.0      0.895000  0.730735\n",
       "1.0      0.571429  2.202744\n",
       "2.0      0.702020  1.486428"
      ]
     },
     "execution_count": 112,
     "metadata": {},
     "output_type": "execute_result"
    }
   ],
   "source": [
    "df2.groupby('group').agg({if_correct': np.mean, 'rt': np.mean})"
   ]
  }
 ],
 "metadata": {
  "kernelspec": {
   "display_name": "Python 3",
   "language": "python",
   "name": "python3"
  },
  "language_info": {
   "codemirror_mode": {
    "name": "ipython",
    "version": 3
   },
   "file_extension": ".py",
   "mimetype": "text/x-python",
   "name": "python",
   "nbconvert_exporter": "python",
   "pygments_lexer": "ipython3",
   "version": "3.7.6"
  }
 },
 "nbformat": 4,
 "nbformat_minor": 2
}
