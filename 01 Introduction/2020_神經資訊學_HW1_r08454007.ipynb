{
 "cells": [
  {
   "cell_type": "code",
   "execution_count": 86,
   "metadata": {},
   "outputs": [
    {
     "name": "stdout",
     "output_type": "stream",
     "text": [
      "Get ready...\n",
      "Press [Enter] now!\n",
      "Get ready...\n",
      "Press [Enter] now!\n",
      "Get ready...\n",
      "Press [Enter] now!\n",
      "平均反應時間： 0.2553067207336426\n"
     ]
    }
   ],
   "source": [
    "\n",
    "    import time,random\n",
    "    for i in range(1,4):\n",
    "        a=0\n",
    "        print(\"Get ready...\",flush=True) \n",
    "        time.sleep(random.uniform(5.0,10.0))\n",
    "        tstart=time.time()\n",
    "        input(\"Press [Enter] now!\") \n",
    "        a=a+time.time()-tstart\n",
    "        if i ==3:\n",
    "            print(\"平均反應時間：\",a/3)\n",
    "\n",
    "\n"
   ]
  }
 ],
 "metadata": {
  "kernelspec": {
   "display_name": "Python 3",
   "language": "python",
   "name": "python3"
  },
  "language_info": {
   "codemirror_mode": {
    "name": "ipython",
    "version": 3
   },
   "file_extension": ".py",
   "mimetype": "text/x-python",
   "name": "python",
   "nbconvert_exporter": "python",
   "pygments_lexer": "ipython3",
   "version": "3.7.4"
  }
 },
 "nbformat": 4,
 "nbformat_minor": 2
}
