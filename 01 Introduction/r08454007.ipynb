{
 "cells": [
  {
   "cell_type": "markdown",
   "metadata": {},
   "source": [
    "# Psychoinformatics - Week 1 (Exercises)\n",
    "王苡蓁 腦與心智所 碩一 \n",
    "r08454007@ntu.edu.tw"
   ]
  },
  {
   "cell_type": "markdown",
   "metadata": {},
   "source": [
    "## 1 Measurement of RTs (6 points)"
   ]
  },
  {
   "cell_type": "markdown",
   "metadata": {},
   "source": [
    "Please modify the FUNCTION measure() to:\n",
    "\n",
    "(1) change the pre-response waiting period from [0,10] to [5,10] seconds (3 points)\n",
    "\n",
    "and\n",
    "\n",
    "(2) carry out 3 measurements and print out only the AVERAGE RT (3 points)"
   ]
  },
  {
   "cell_type": "code",
   "execution_count": 8,
   "metadata": {},
   "outputs": [],
   "source": [
    "# Please make changes here:\n",
    "import time,random\n",
    "def measure():\n",
    "    a=0\n",
    "    for i in range(1,4):\n",
    "        print(\"Get ready…\",flush=True)\n",
    "        time.sleep(random.uniform(5.0,10.0))\n",
    "        tstart=time.time()\n",
    "        input(\"Press [Enter] now!\");\n",
    "        a=a+time.time()-tstart\n",
    "    if i ==3:\n",
    "        return a/3\n",
    "\n",
    "\n",
    "\n",
    "\n",
    "\n",
    "\n",
    "\n",
    "\n"
   ]
  },
  {
   "cell_type": "code",
   "execution_count": 9,
   "metadata": {},
   "outputs": [
    {
     "name": "stdout",
     "output_type": "stream",
     "text": [
      "Get ready…\n",
      "Press [Enter] now!\n",
      "Get ready…\n",
      "Press [Enter] now!\n",
      "Get ready…\n",
      "Press [Enter] now!\n",
      "0.5824852784474691\n"
     ]
    }
   ],
   "source": [
    "print(measure())"
   ]
  },
  {
   "cell_type": "markdown",
   "metadata": {},
   "source": [
    "### Please submit this file to http://hpc.psy.ntu.edu.tw/info before 9am next Friday."
   ]
  }
 ],
 "metadata": {
  "kernelspec": {
   "display_name": "Python 3",
   "language": "python",
   "name": "python3"
  },
  "language_info": {
   "codemirror_mode": {
    "name": "ipython",
    "version": 3
   },
   "file_extension": ".py",
   "mimetype": "text/x-python",
   "name": "python",
   "nbconvert_exporter": "python",
   "pygments_lexer": "ipython3",
   "version": "3.7.4"
  }
 },
 "nbformat": 4,
 "nbformat_minor": 2
}
